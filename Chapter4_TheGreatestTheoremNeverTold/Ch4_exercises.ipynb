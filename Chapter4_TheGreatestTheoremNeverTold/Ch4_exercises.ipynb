{
 "cells": [
  {
   "cell_type": "markdown",
   "metadata": {},
   "source": [
    "### Exercise 1\n",
    "\n",
    "1\\. How would you estimate the quantity $E\\left[ \\cos{X} \\right]$, where $X \\sim \\text{Exp}(4)$? What about $E\\left[ \\cos{X} | X \\lt 1\\right]$, i.e. the expected value *given* we know $X$ is less than 1? Would you need more samples than the original samples size to be equally accurate?"
   ]
  },
  {
   "cell_type": "code",
   "execution_count": 1,
   "metadata": {},
   "outputs": [],
   "source": [
    "import numpy as np\n",
    "import scipy.stats as stats"
   ]
  },
  {
   "cell_type": "code",
   "execution_count": 2,
   "metadata": {},
   "outputs": [],
   "source": [
    "import matplotlib.pyplot as plt\n",
    "%matplotlib inline"
   ]
  },
  {
   "cell_type": "code",
   "execution_count": 3,
   "metadata": {},
   "outputs": [
    {
     "data": {
      "text/plain": [
       "(array([18688.,  8269.,  6936.,  6344.,  6197.,  6280.,  6808.,  7584.,\n",
       "         9744., 23150.]),\n",
       " array([-9.99999999e-01, -7.99999999e-01, -5.99999999e-01, -3.99999999e-01,\n",
       "        -1.99999999e-01,  7.19514115e-10,  2.00000001e-01,  4.00000000e-01,\n",
       "         6.00000000e-01,  8.00000000e-01,  1.00000000e+00]),\n",
       " <a list of 10 Patch objects>)"
      ]
     },
     "execution_count": 3,
     "metadata": {},
     "output_type": "execute_result"
    },
    {
     "data": {
      "image/png": "[encoded data removed]",
      "text/plain": [
       "<Figure size 432x288 with 1 Axes>"
      ]
     },
     "metadata": {},
     "output_type": "display_data"
    }
   ],
   "source": [
    "exp = stats.expon( scale=4 )\n",
    "N = 1e5\n",
    "X = exp.rvs( int(N) )\n",
    "\n",
    "y = np.cos(X)\n",
    "plt.hist(y)"
   ]
  },
  {
   "cell_type": "code",
   "execution_count": 4,
   "metadata": {},
   "outputs": [
    {
     "name": "stdout",
     "output_type": "stream",
     "text": [
      "0.057362781266943684\n"
     ]
    }
   ],
   "source": [
    "EofCosX = np.sum(y) / len(y)\n",
    "print(EofCosX)"
   ]
  },
  {
   "cell_type": "code",
   "execution_count": 5,
   "metadata": {},
   "outputs": [],
   "source": [
    "XX = X[X < 1]"
   ]
  },
  {
   "cell_type": "code",
   "execution_count": 6,
   "metadata": {},
   "outputs": [
    {
     "data": {
      "text/plain": [
       "(array([6.9720e+04, 2.0941e+04, 6.4160e+03, 2.0300e+03, 6.2200e+02,\n",
       "        2.0000e+02, 4.6000e+01, 1.7000e+01, 5.0000e+00, 3.0000e+00]),\n",
       " array([4.63758534e-06, 4.74400755e+00, 9.48801045e+00, 1.42320134e+01,\n",
       "        1.89760163e+01, 2.37200192e+01, 2.84640221e+01, 3.32080250e+01,\n",
       "        3.79520279e+01, 4.26960308e+01, 4.74400337e+01]),\n",
       " <a list of 10 Patch objects>)"
      ]
     },
     "execution_count": 6,
     "metadata": {},
     "output_type": "execute_result"
    },
    {
     "data": {
      "image/png": "[encoded data removed]",
      "text/plain": [
       "<Figure size 432x288 with 1 Axes>"
      ]
     },
     "metadata": {},
     "output_type": "display_data"
    }
   ],
   "source": [
    "plt.hist(X)"
   ]
  },
  {
   "cell_type": "code",
   "execution_count": 7,
   "metadata": {},
   "outputs": [
    {
     "data": {
      "text/plain": [
       "(array([2510., 2357., 2376., 2191., 2177., 2178., 2120., 2121., 2101.,\n",
       "        1995.]),\n",
       " array([4.63758534e-06, 9.99948916e-02, 1.99985146e-01, 2.99975400e-01,\n",
       "        3.99965654e-01, 4.99955908e-01, 5.99946162e-01, 6.99936416e-01,\n",
       "        7.99926670e-01, 8.99916924e-01, 9.99907178e-01]),\n",
       " <a list of 10 Patch objects>)"
      ]
     },
     "execution_count": 7,
     "metadata": {},
     "output_type": "execute_result"
    },
    {
     "data": {
      "image/png": "[encoded data removed]",
      "text/plain": [
       "<Figure size 432x288 with 1 Axes>"
      ]
     },
     "metadata": {},
     "output_type": "display_data"
    }
   ],
   "source": [
    "plt.hist(XX)"
   ]
  },
  {
   "cell_type": "code",
   "execution_count": 8,
   "metadata": {},
   "outputs": [
    {
     "data": {
      "text/plain": [
       "(array([1140., 1162., 1271., 1384., 1444., 1593., 1825., 2132., 2842.,\n",
       "        7333.]),\n",
       " array([0.54038041, 0.58634237, 0.63230433, 0.67826629, 0.72422825,\n",
       "        0.77019021, 0.81615216, 0.86211412, 0.90807608, 0.95403804,\n",
       "        1.        ]),\n",
       " <a list of 10 Patch objects>)"
      ]
     },
     "execution_count": 8,
     "metadata": {},
     "output_type": "execute_result"
    },
    {
     "data": {
      "image/png": "[encoded data removed]",
      "text/plain": [
       "<Figure size 432x288 with 1 Axes>"
      ]
     },
     "metadata": {},
     "output_type": "display_data"
    }
   ],
   "source": [
    "y = np.cos(XX)\n",
    "plt.hist(y)"
   ]
  },
  {
   "cell_type": "code",
   "execution_count": 9,
   "metadata": {},
   "outputs": [
    {
     "name": "stdout",
     "output_type": "stream",
     "text": [
      "0.8492922199750488\n"
     ]
    }
   ],
   "source": [
    "EofCosXX = np.sum(y) / len(y)\n",
    "print(EofCosXX)"
   ]
  },
  {
   "cell_type": "markdown",
   "metadata": {},
   "source": [
    "2\\. The following table was located in the paper \"Going for Three: Predicting the Likelihood of Field Goal Success with Logistic Regression\" [2]. The table ranks football field-goal kickers by their percent of non-misses. What mistake have the researchers made?\n",
    "\n",
    "-----\n",
    "\n",
    "####  Kicker Careers Ranked by Make Percentage\n",
    "<table><tbody><tr><th>Rank </th><th>Kicker </th><th>Make % </th><th>Number  of Kicks</th></tr><tr><td>1 </td><td>Garrett Hartley </td><td>87.7 </td><td>57</td></tr><tr><td>2</td><td> Matt Stover </td><td>86.8 </td><td>335</td></tr><tr><td>3 </td><td>Robbie Gould </td><td>86.2 </td><td>224</td></tr><tr><td>4 </td><td>Rob Bironas </td><td>86.1 </td><td>223</td></tr><tr><td>5</td><td> Shayne Graham </td><td>85.4 </td><td>254</td></tr><tr><td>… </td><td>… </td><td>…</td><td> </td></tr><tr><td>51</td><td> Dave Rayner </td><td>72.2 </td><td>90</td></tr><tr><td>52</td><td> Nick Novak </td><td>71.9 </td><td>64</td></tr><tr><td>53 </td><td>Tim Seder </td><td>71.0 </td><td>62</td></tr><tr><td>54 </td><td>Jose Cortez </td><td>70.7</td><td> 75</td></tr><tr><td>55 </td><td>Wade Richey </td><td>66.1</td><td> 56</td></tr></tbody></table>"
   ]
  },
  {
   "cell_type": "markdown",
   "metadata": {},
   "source": [
    "The big mistake here is to not properly take into account number of attempts."
   ]
  },
  {
   "cell_type": "markdown",
   "metadata": {},
   "source": [
    "In August 2013, [a popular post](http://bpodgursky.wordpress.com/2013/08/21/average-income-per-programming-language/) on the average income per programmer of different languages was trending. Here's the summary chart: (reproduced without permission, cause when you lie with stats, you gunna get the hammer). What do you notice about the extremes?\n",
    "\n",
    "------\n",
    "\n",
    "#### Average household income by programming language\n",
    "\n",
    "<table >\n",
    " <tr><td>Language</td><td>Average Household Income ($)</td><td>Data Points</td></tr>\n",
    " <tr><td>Puppet</td><td>87,589.29</td><td>112</td></tr>\n",
    " <tr><td>Haskell</td><td>89,973.82</td><td>191</td></tr>\n",
    " <tr><td>PHP</td><td>94,031.19</td><td>978</td></tr>\n",
    " <tr><td>CoffeeScript</td><td>94,890.80</td><td>435</td></tr>\n",
    " <tr><td>VimL</td><td>94,967.11</td><td>532</td></tr>\n",
    " <tr><td>Shell</td><td>96,930.54</td><td>979</td></tr>\n",
    " <tr><td>Lua</td><td>96,930.69</td><td>101</td></tr>\n",
    " <tr><td>Erlang</td><td>97,306.55</td><td>168</td></tr>\n",
    " <tr><td>Clojure</td><td>97,500.00</td><td>269</td></tr>\n",
    " <tr><td>Python</td><td>97,578.87</td><td>2314</td></tr>\n",
    " <tr><td>JavaScript</td><td>97,598.75</td><td>3443</td></tr>\n",
    " <tr><td>Emacs Lisp</td><td>97,774.65</td><td>355</td></tr>\n",
    " <tr><td>C#</td><td>97,823.31</td><td>665</td></tr>\n",
    " <tr><td>Ruby</td><td>98,238.74</td><td>3242</td></tr>\n",
    " <tr><td>C++</td><td>99,147.93</td><td>845</td></tr>\n",
    " <tr><td>CSS</td><td>99,881.40</td><td>527</td></tr>\n",
    " <tr><td>Perl</td><td>100,295.45</td><td>990</td></tr>\n",
    " <tr><td>C</td><td>100,766.51</td><td>2120</td></tr>\n",
    " <tr><td>Go</td><td>101,158.01</td><td>231</td></tr>\n",
    " <tr><td>Scala</td><td>101,460.91</td><td>243</td></tr>\n",
    " <tr><td>ColdFusion</td><td>101,536.70</td><td>109</td></tr>\n",
    " <tr><td>Objective-C</td><td>101,801.60</td><td>562</td></tr>\n",
    " <tr><td>Groovy</td><td>102,650.86</td><td>116</td></tr>\n",
    " <tr><td>Java</td><td>103,179.39</td><td>1402</td></tr>\n",
    " <tr><td>XSLT</td><td>106,199.19</td><td>123</td></tr>\n",
    " <tr><td>ActionScript</td><td>108,119.47</td><td>113</td></tr>\n",
    "</table>"
   ]
  },
  {
   "cell_type": "markdown",
   "metadata": {},
   "source": [
    "Of course, the extremes are cases with very small numbers of samples."
   ]
  },
  {
   "cell_type": "code",
   "execution_count": null,
   "metadata": {},
   "outputs": [],
   "source": []
  }
 ],
 "metadata": {
  "kernelspec": {
   "display_name": "Python 3",
   "language": "python",
   "name": "python3"
  },
  "language_info": {
   "codemirror_mode": {
    "name": "ipython",
    "version": 3
   },
   "file_extension": ".py",
   "mimetype": "text/x-python",
   "name": "python",
   "nbconvert_exporter": "python",
   "pygments_lexer": "ipython3",
   "version": "3.6.5"
  }
 },
 "nbformat": 4,
 "nbformat_minor": 2
}
