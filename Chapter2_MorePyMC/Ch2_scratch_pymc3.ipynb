{
 "cells": [
  {
   "cell_type": "code",
   "execution_count": 1,
   "metadata": {
    "collapsed": true
   },
   "outputs": [],
   "source": [
    "# guess we should actually use Python 3...\n",
    "from __future__ import print_function"
   ]
  },
  {
   "cell_type": "code",
   "execution_count": 2,
   "metadata": {
    "collapsed": true
   },
   "outputs": [],
   "source": [
    "import pymc3 as pm\n",
    "import scipy.stats as stats\n",
    "import numpy as np\n",
    "import matplotlib.pyplot as plt\n",
    "%matplotlib inline"
   ]
  },
  {
   "cell_type": "code",
   "execution_count": 3,
   "metadata": {
    "collapsed": true
   },
   "outputs": [],
   "source": [
    "if False:\n",
    "    ??pm.Exponential"
   ]
  },
  {
   "cell_type": "markdown",
   "metadata": {},
   "source": [
    "## A/B Testing"
   ]
  },
  {
   "cell_type": "markdown",
   "metadata": {},
   "source": [
    "#### A only"
   ]
  },
  {
   "cell_type": "markdown",
   "metadata": {},
   "source": [
    "Suppose:\n",
    "\n",
    "* $H_0$: $p_A = 0.05$\n",
    "* $H_A$: $p_A \\ne 0.05$"
   ]
  },
  {
   "cell_type": "code",
   "execution_count": 4,
   "metadata": {},
   "outputs": [
    {
     "name": "stdout",
     "output_type": "stream",
     "text": [
      "observed mean =  0.0333333333333\n",
      "observed total =  5\n"
     ]
    }
   ],
   "source": [
    "p_true = 0.05\n",
    "N = 150\n",
    "occurrences = stats.bernoulli.rvs(p_true, size=N)\n",
    "\n",
    "print('observed mean = ', np.mean(occurrences))\n",
    "print('observed total = ', np.sum(occurrences))"
   ]
  },
  {
   "cell_type": "markdown",
   "metadata": {},
   "source": [
    "What is the 95% interval?\n",
    "\n",
    "R approach, with normal approximation valid:\n",
    "\n",
    "```\n",
    "> (phat <- 75/150)\n",
    "[1] 0.5\n",
    "> (stderr <- sqrt(phat * (1 - phat) / 150))\n",
    "[1] 0.04082483\n",
    "> (CI95 <- phat + stderr * c(qnorm(0.025), qnorm(0.975)))\n",
    "[1] 0.4199848 0.5800152\n",
    "```\n",
    "\n",
    "Here,\n",
    "\n",
    "```\n",
    "> (phat <- 4/150)\n",
    "[1] 0.02666667\n",
    "> (stderr <- sqrt(phat * (1 - phat) / 150))\n",
    "[1] 0.01315435\n",
    "> (CI95 <- phat + stderr * c(qnorm(0.025), qnorm(0.975)))\n",
    "[1] 0.000884606 0.052448727\n",
    "```\n",
    "\n",
    "But, shouldn't bounding at zero be enforced? YES. Various conditions here are not met when `n_observed = 4`. The proper way to estimate the interval is with simulation."
   ]
  },
  {
   "cell_type": "markdown",
   "metadata": {
    "collapsed": true
   },
   "source": [
    "The R way to solve that would be:\n",
    "\n",
    "```\n",
    "> x <- rbinom(n=10000, size=150, prob=0.05) / 150\n",
    "> hist(x, breaks=10)\n",
    "> sum(x <= phat)\n",
    "[1] 1257\n",
    "> sum(x <= phat) / 10000\n",
    "[1] 0.1257\n",
    "```\n",
    "\n",
    "This provides a p-value (observation at least that extreme, coming from one side here), not an interval."
   ]
  },
  {
   "cell_type": "markdown",
   "metadata": {},
   "source": [
    "Here, need SciPy equivalent functions:"
   ]
  },
  {
   "cell_type": "code",
   "execution_count": 5,
   "metadata": {},
   "outputs": [
    {
     "name": "stdout",
     "output_type": "stream",
     "text": [
      "0.0498066666667\n"
     ]
    },
    {
     "data": {
      "image/png": "[encoded data removed]",
      "text/plain": [
       "<matplotlib.figure.Figure at 0x11d34afd0>"
      ]
     },
     "metadata": {},
     "output_type": "display_data"
    }
   ],
   "source": [
    "# `binom` takes arguments `n` and `p` - here 150 evts with p=0.05\n",
    "B = stats.binom(150, 0.05)\n",
    "# the `rvs` method takes the number of trials as an argument (or a shape parameter), then more\n",
    "x = B.rvs(1000)\n",
    "r = x / 150.\n",
    "# plot\n",
    "plt.hist(r)\n",
    "rbar = np.mean(r)\n",
    "print(rbar)"
   ]
  },
  {
   "cell_type": "code",
   "execution_count": 6,
   "metadata": {},
   "outputs": [
    {
     "data": {
      "text/plain": [
       "array([ 4,  5,  6,  7, 13,  7,  7, 10,  5, 12])"
      ]
     },
     "execution_count": 6,
     "metadata": {},
     "output_type": "execute_result"
    }
   ],
   "source": [
    "x[:10]"
   ]
  },
  {
   "cell_type": "code",
   "execution_count": 7,
   "metadata": {},
   "outputs": [
    {
     "data": {
      "text/plain": [
       "array([ 0.02666667,  0.03333333,  0.04      ,  0.04666667,  0.08666667,\n",
       "        0.04666667,  0.04666667,  0.06666667,  0.03333333,  0.08      ,\n",
       "        0.02666667])"
      ]
     },
     "execution_count": 7,
     "metadata": {},
     "output_type": "execute_result"
    }
   ],
   "source": [
    "r[:11]"
   ]
  },
  {
   "cell_type": "code",
   "execution_count": 8,
   "metadata": {},
   "outputs": [
    {
     "data": {
      "text/plain": [
       "0.53900000000000003"
      ]
     },
     "execution_count": 8,
     "metadata": {},
     "output_type": "execute_result"
    }
   ],
   "source": [
    "np.sum(r <= rbar) / 1000."
   ]
  },
  {
   "cell_type": "markdown",
   "metadata": {
    "collapsed": true
   },
   "source": [
    "Get a 95% interval by finding the values around the mean that contain 95% of the entries?"
   ]
  },
  {
   "cell_type": "code",
   "execution_count": 9,
   "metadata": {
    "collapsed": true
   },
   "outputs": [],
   "source": [
    "v_1 = r > 0.03\n",
    "v_2 = r < 0.07"
   ]
  },
  {
   "cell_type": "code",
   "execution_count": 10,
   "metadata": {},
   "outputs": [
    {
     "data": {
      "text/plain": [
       "0.018207640642811957"
      ]
     },
     "execution_count": 10,
     "metadata": {},
     "output_type": "execute_result"
    }
   ],
   "source": [
    "np.std(r)"
   ]
  },
  {
   "cell_type": "code",
   "execution_count": 11,
   "metadata": {},
   "outputs": [
    {
     "data": {
      "text/plain": [
       "numpy.ndarray"
      ]
     },
     "execution_count": 11,
     "metadata": {},
     "output_type": "execute_result"
    }
   ],
   "source": [
    "type(r)"
   ]
  },
  {
   "cell_type": "code",
   "execution_count": 12,
   "metadata": {},
   "outputs": [
    {
     "data": {
      "text/plain": [
       "(1000,)"
      ]
     },
     "execution_count": 12,
     "metadata": {},
     "output_type": "execute_result"
    }
   ],
   "source": [
    "r.shape"
   ]
  },
  {
   "cell_type": "code",
   "execution_count": 13,
   "metadata": {},
   "outputs": [
    {
     "name": "stdout",
     "output_type": "stream",
     "text": [
      "[ 0.          0.00666667  0.00666667  0.00666667  0.00666667  0.01333333\n",
      "  0.01333333  0.01333333  0.01333333  0.01333333]\n",
      "[ 0.09333333  0.09333333  0.1         0.1         0.1         0.10666667\n",
      "  0.10666667  0.11333333  0.12666667  0.14666667]\n"
     ]
    }
   ],
   "source": [
    "r.sort(axis=0)\n",
    "print(r[:10])\n",
    "print(r[-10:])"
   ]
  },
  {
   "cell_type": "code",
   "execution_count": 14,
   "metadata": {},
   "outputs": [
    {
     "name": "stdout",
     "output_type": "stream",
     "text": [
      "0.02\n",
      "0.0866666666667\n"
     ]
    }
   ],
   "source": [
    "print(r[24])\n",
    "print(r[-25])"
   ]
  },
  {
   "cell_type": "code",
   "execution_count": 16,
   "metadata": {},
   "outputs": [
    {
     "name": "stdout",
     "output_type": "stream",
     "text": [
      "(24,)\n",
      "(24,)\n"
     ]
    }
   ],
   "source": [
    "print(r[:24].shape)\n",
    "print(r[-24:].shape)"
   ]
  },
  {
   "cell_type": "code",
   "execution_count": 17,
   "metadata": {
    "collapsed": true
   },
   "outputs": [],
   "source": [
    "?np.where"
   ]
  },
  {
   "cell_type": "code",
   "execution_count": null,
   "metadata": {
    "collapsed": true
   },
   "outputs": [],
   "source": []
  }
 ],
 "metadata": {
  "kernelspec": {
   "display_name": "Python 2",
   "language": "python",
   "name": "python2"
  },
  "language_info": {
   "codemirror_mode": {
    "name": "ipython",
    "version": 2
   },
   "file_extension": ".py",
   "mimetype": "text/x-python",
   "name": "python",
   "nbconvert_exporter": "python",
   "pygments_lexer": "ipython2",
   "version": "2.7.13"
  }
 },
 "nbformat": 4,
 "nbformat_minor": 2
}
